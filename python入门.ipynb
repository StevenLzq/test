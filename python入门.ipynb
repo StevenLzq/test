{
 "cells": [
  {
   "cell_type": "code",
   "execution_count": 1,
   "metadata": {},
   "outputs": [
    {
     "data": {
      "text/plain": [
       "'I love'"
      ]
     },
     "execution_count": 1,
     "metadata": {},
     "output_type": "execute_result"
    }
   ],
   "source": [
    "str1='I love fishc.com'\n",
    "str1[:6]"
   ]
  },
  {
   "cell_type": "code",
   "execution_count": 2,
   "metadata": {},
   "outputs": [
    {
     "data": {
      "text/plain": [
       "'Xiaoxie'"
      ]
     },
     "execution_count": 2,
     "metadata": {},
     "output_type": "execute_result"
    }
   ],
   "source": [
    "#首字母大写\n",
    "str1='xiaoxie'\n",
    "str1.capitalize()"
   ]
  },
  {
   "cell_type": "code",
   "execution_count": null,
   "metadata": {},
   "outputs": [],
   "source": [
    "#casefold 所有字符小写\n"
   ]
  },
  {
   "cell_type": "code",
   "execution_count": 3,
   "metadata": {},
   "outputs": [
    {
     "name": "stdout",
     "output_type": "stream",
     "text": [
      "120\n"
     ]
    }
   ],
   "source": [
    "#递归求阶乘\n",
    "#非递归\n",
    "def  jiecheng(n):\n",
    "    result=n\n",
    "    for i in range(1,n):\n",
    "        result*=i\n",
    "    return result\n",
    "num=jiecheng(5)\n",
    "print(num)\n",
    "        "
   ]
  },
  {
   "cell_type": "code",
   "execution_count": 5,
   "metadata": {},
   "outputs": [
    {
     "name": "stdout",
     "output_type": "stream",
     "text": [
      "120\n"
     ]
    }
   ],
   "source": [
    "#递归方法\n",
    "def digui(n):\n",
    "    if n==1:\n",
    "        return 1\n",
    "    else:\n",
    "        return n*digui(n-1)\n",
    "num=digui(5)\n",
    "print(num)"
   ]
  },
  {
   "cell_type": "code",
   "execution_count": null,
   "metadata": {},
   "outputs": [],
   "source": [
    "#从斐波那契数列说起\n"
   ]
  },
  {
   "cell_type": "code",
   "execution_count": 1,
   "metadata": {},
   "outputs": [
    {
     "data": {
      "text/plain": [
       "'让变成改变世界'"
      ]
     },
     "execution_count": 1,
     "metadata": {},
     "output_type": "execute_result"
    }
   ],
   "source": [
    "#字典\n",
    "brand=['李宁','耐克','阿迪','鱼c']\n",
    "slogan=['一切皆有可能','just do IT','nothing','让变成改变世界']\n",
    "slogan[brand.index('鱼c')]"
   ]
  },
  {
   "cell_type": "code",
   "execution_count": 2,
   "metadata": {},
   "outputs": [
    {
     "data": {
      "text/plain": [
       "'one'"
      ]
     },
     "execution_count": 2,
     "metadata": {},
     "output_type": "execute_result"
    }
   ],
   "source": [
    "dict2={1:'one',2:'two'}\n",
    "dict2[1]"
   ]
  },
  {
   "cell_type": "code",
   "execution_count": 4,
   "metadata": {},
   "outputs": [
    {
     "name": "stdout",
     "output_type": "stream",
     "text": [
      "{'g': 71, 'i': 105, 'f': 70}\n"
     ]
    }
   ],
   "source": [
    "dict3=dict((('f',70),('g',71),('i',105)))\n",
    "print(dict3)"
   ]
  },
  {
   "cell_type": "code",
   "execution_count": 9,
   "metadata": {},
   "outputs": [
    {
     "data": {
      "text/plain": [
       "{1: ('one', 'two', 'three'),\n",
       " 2: ('one', 'two', 'three'),\n",
       " 3: ('one', 'two', 'three')}"
      ]
     },
     "execution_count": 9,
     "metadata": {},
     "output_type": "execute_result"
    }
   ],
   "source": [
    "dict1={}\n",
    "dict1.fromkeys((1,2,3),('one','two','three'))"
   ]
  },
  {
   "cell_type": "code",
   "execution_count": 1,
   "metadata": {},
   "outputs": [],
   "source": [
    "f=open('record.txt')\n"
   ]
  },
  {
   "cell_type": "code",
   "execution_count": 2,
   "metadata": {},
   "outputs": [
    {
     "data": {
      "text/plain": [
       "'小客服:小甲鱼，今天有客户问你有没有女朋友？\\n小甲鱼:咦？？\\n小客服:我跟她说你有女朋友了！\\n小甲鱼:。。。。。。\\n小客服:她让你分手后考虑下她！然后我说:\"您要买个优盘，我就帮您留意下~\"\\n小甲鱼:然后呢？\\n小客服:她买了两个，说发一个货就好~\\n小甲鱼:呃。。。。。。你真牛！\\n小客服:那是，谁让我是鱼C最可爱小客服嘛~\\n小甲鱼:下次有人想调戏你我不阻止~\\n小客服:滚！！！\\n================================================================================\\n小客服:小甲鱼，有个好评很好笑哈。\\n小甲鱼:哦？\\n小客服:\"有了小甲鱼，以后妈妈再也不用担心我的学习了~\"\\n小甲鱼:哈哈哈，我看到丫，我还发微博了呢~\\n小客服:嗯嗯，我看了你的微博丫~\\n小甲鱼:哟西~\\n小客服:那个有条回复“左手拿著小甲魚，右手拿著打火機，哪裡不會點哪裡，so easy ^_^”\\n小甲鱼:T_T\\n================================================================================\\n小客服:小甲鱼，今天一个会员想找你\\n小甲鱼:哦？什么事？\\n小客服:他说你一个学生月薪已经超过12k了！！\\n小甲鱼:哪里的？\\n小客服:上海的\\n小甲鱼:那正常，哪家公司？\\n小客服:他没说呀。\\n小甲鱼:哦\\n小客服:老大，为什么我工资那么低啊？？是时候涨涨工资了！！\\n小甲鱼:啊，你说什么？我在外边呢，这里好吵吖。。。。。。\\n小客服:滚！！！'"
      ]
     },
     "execution_count": 2,
     "metadata": {},
     "output_type": "execute_result"
    }
   ],
   "source": [
    "f.read()"
   ]
  },
  {
   "cell_type": "code",
   "execution_count": 3,
   "metadata": {},
   "outputs": [
    {
     "data": {
      "text/plain": [
       "''"
      ]
     },
     "execution_count": 3,
     "metadata": {},
     "output_type": "execute_result"
    }
   ],
   "source": [
    "f.read()"
   ]
  },
  {
   "cell_type": "code",
   "execution_count": 4,
   "metadata": {},
   "outputs": [
    {
     "data": {
      "text/plain": [
       "1129"
      ]
     },
     "execution_count": 4,
     "metadata": {},
     "output_type": "execute_result"
    }
   ],
   "source": [
    "f.tell()"
   ]
  },
  {
   "cell_type": "code",
   "execution_count": 5,
   "metadata": {},
   "outputs": [],
   "source": [
    "f.close()"
   ]
  },
  {
   "cell_type": "code",
   "execution_count": 9,
   "metadata": {},
   "outputs": [
    {
     "data": {
      "text/plain": [
       "45"
      ]
     },
     "execution_count": 9,
     "metadata": {},
     "output_type": "execute_result"
    }
   ],
   "source": [
    "f=open('record.txt')\n",
    "f.read()\n",
    "f.seek(45,0)"
   ]
  },
  {
   "cell_type": "code",
   "execution_count": 10,
   "metadata": {},
   "outputs": [
    {
     "data": {
      "text/plain": [
       "'小甲鱼:咦？？\\n'"
      ]
     },
     "execution_count": 10,
     "metadata": {},
     "output_type": "execute_result"
    }
   ],
   "source": [
    "f.readline()"
   ]
  },
  {
   "cell_type": "code",
   "execution_count": null,
   "metadata": {},
   "outputs": [],
   "source": []
  }
 ],
 "metadata": {
  "kernelspec": {
   "display_name": "Python 3",
   "language": "python",
   "name": "python3"
  },
  "language_info": {
   "codemirror_mode": {
    "name": "ipython",
    "version": 3
   },
   "file_extension": ".py",
   "mimetype": "text/x-python",
   "name": "python",
   "nbconvert_exporter": "python",
   "pygments_lexer": "ipython3",
   "version": "3.5.2"
  }
 },
 "nbformat": 4,
 "nbformat_minor": 2
}
